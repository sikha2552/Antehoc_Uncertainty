{
 "cells": [
  {
   "cell_type": "markdown",
   "metadata": {},
   "source": [
    "# Preprocessing of Dataset \n",
    "\n",
    "https://github.com/IlliaOvcharenko/lung-segmentation?tab=readme-ov-file"
   ]
  },
  {
   "cell_type": "markdown",
   "metadata": {},
   "source": [
    "## Print the images without mask"
   ]
  },
  {
   "cell_type": "code",
   "execution_count": 5,
   "metadata": {},
   "outputs": [
    {
     "name": "stdout",
     "output_type": "stream",
     "text": [
      "Total images without corresponding masks: 0\n",
      "\n",
      "Images without corresponding masks:\n",
      "\n",
      "List saved to images_without_masks.txt\n"
     ]
    }
   ],
   "source": [
    "import os\n",
    "\n",
    "# Define the paths to the folders\n",
    "images_folder = r\"C:\\Users\\sikha\\Downloads\\dataset.tar\\dataset\\images\"\n",
    "masks_folder = r\"C:\\Users\\sikha\\Downloads\\dataset.tar\\dataset\\masks\"\n",
    "\n",
    "# Get the list of image filenames (without extensions)\n",
    "image_names = set(os.path.splitext(f)[0] for f in os.listdir(images_folder))\n",
    "\n",
    "# Get the list of mask filenames (without extensions and '_mask' suffix)\n",
    "mask_names = set(os.path.splitext(f)[0].replace('_mask', '') for f in os.listdir(masks_folder))\n",
    "\n",
    "# Find images that are in the images folder but not in the masks folder\n",
    "images_without_masks = image_names - mask_names\n",
    "\n",
    "# Print the total count and the list of images without corresponding masks\n",
    "print(f\"Total images without corresponding masks: {len(images_without_masks)}\\n\")\n",
    "print(\"Images without corresponding masks:\")\n",
    "for img in images_without_masks:\n",
    "    print(img)\n",
    "\n",
    "# Optional: Save the list to a file\n",
    "output_file = \"images_without_masks.txt\"\n",
    "with open(output_file, \"w\") as f:\n",
    "    f.write(f\"Total missing files: {len(images_without_masks)}\\n\")\n",
    "    for img in images_without_masks:\n",
    "        f.write(f\"{img}\\n\")\n",
    "print(f\"\\nList saved to {output_file}\")\n",
    "\n"
   ]
  },
  {
   "cell_type": "markdown",
   "metadata": {},
   "source": [
    "## Delete the images without Mask"
   ]
  },
  {
   "cell_type": "code",
   "execution_count": 4,
   "metadata": {},
   "outputs": [
    {
     "name": "stdout",
     "output_type": "stream",
     "text": [
      "Total images deleted: 96\n"
     ]
    }
   ],
   "source": [
    "import os\n",
    "\n",
    "# Define the paths to the folders\n",
    "images_folder = r\"C:\\Users\\sikha\\Downloads\\dataset.tar\\dataset\\images\"\n",
    "masks_folder = r\"C:\\Users\\sikha\\Downloads\\dataset.tar\\dataset\\masks\"\n",
    "\n",
    "# Get the list of image filenames (without extensions)\n",
    "image_names = set(os.path.splitext(f)[0] for f in os.listdir(images_folder))\n",
    "\n",
    "# Get the list of mask filenames (without extensions and '_mask' suffix)\n",
    "mask_names = set(os.path.splitext(f)[0].replace('_mask', '') for f in os.listdir(masks_folder))\n",
    "\n",
    "# Find images that are in the images folder but not in the masks folder\n",
    "images_without_masks = image_names - mask_names\n",
    "\n",
    "# Delete the unmatched images from the images folder\n",
    "deleted_count = 0\n",
    "for image_name in images_without_masks:\n",
    "    image_file = os.path.join(images_folder, image_name + \".png\")  # Assuming the image files are .png\n",
    "    if os.path.exists(image_file):\n",
    "        os.remove(image_file)\n",
    "        deleted_count += 1\n",
    "\n",
    "print(f\"Total images deleted: {deleted_count}\")\n"
   ]
  }
 ],
 "metadata": {
  "kernelspec": {
   "display_name": "Python 3",
   "language": "python",
   "name": "python3"
  },
  "language_info": {
   "codemirror_mode": {
    "name": "ipython",
    "version": 3
   },
   "file_extension": ".py",
   "mimetype": "text/x-python",
   "name": "python",
   "nbconvert_exporter": "python",
   "pygments_lexer": "ipython3",
   "version": "3.7.4"
  }
 },
 "nbformat": 4,
 "nbformat_minor": 2
}
